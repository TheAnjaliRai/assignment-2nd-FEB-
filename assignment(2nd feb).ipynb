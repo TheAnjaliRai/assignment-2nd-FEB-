{
 "cells": [
  {
   "cell_type": "code",
   "execution_count": 1,
   "id": "0cfc4644",
   "metadata": {},
   "outputs": [
    {
     "name": "stdout",
     "output_type": "stream",
     "text": [
      "enter your value or enter 'done' if your work is finisheddone\n"
     ]
    }
   ],
   "source": [
    "###ques1 \n",
    "##while loop-- lets to run the code n number of times untill a certain condition is met\n",
    "\n",
    "user_input = \" \"\n",
    "while(user_input.lower()!='done'):\n",
    "    user_input=input(\"enter your value or enter 'done' if your work is finished\")"
   ]
  },
  {
   "cell_type": "code",
   "execution_count": 5,
   "id": "70d027cd",
   "metadata": {},
   "outputs": [
    {
     "name": "stdout",
     "output_type": "stream",
     "text": [
      "enter your value or enter 'done' if your work is finishedhi\n",
      "enter your value or enter 'done' if your work is finishedhello\n",
      "enter your value or enter 'done' if your work is finisheddone\n"
     ]
    }
   ],
   "source": [
    "##for loop\n",
    "user_input = ' '\n",
    "for i in range(11):\n",
    "    user_input=input(\"enter your value or enter 'done' if your work is finished\")\n",
    "    if(user_input.lower()=='done'):\n",
    "        break\n"
   ]
  },
  {
   "cell_type": "code",
   "execution_count": null,
   "id": "4820f088",
   "metadata": {},
   "outputs": [],
   "source": [
    "#for loop will 10 times weather the desired output is met or not unlike while loop\n"
   ]
  },
  {
   "cell_type": "code",
   "execution_count": 6,
   "id": "f573daf6",
   "metadata": {},
   "outputs": [
    {
     "name": "stdout",
     "output_type": "stream",
     "text": [
      "55\n",
      "3628800\n"
     ]
    }
   ],
   "source": [
    "###ques2\n",
    "summ = 0\n",
    "product = 1\n",
    "i=1\n",
    "while(i<11):\n",
    "    summ = summ + i\n",
    "    product = product * i\n",
    "    i += 1\n",
    "print(summ)\n",
    "print(product)"
   ]
  },
  {
   "cell_type": "code",
   "execution_count": 7,
   "id": "31bb8372",
   "metadata": {},
   "outputs": [
    {
     "name": "stdout",
     "output_type": "stream",
     "text": [
      "55\n",
      "3628800\n"
     ]
    }
   ],
   "source": [
    "f_sum = 0\n",
    "f_product = 1\n",
    "for i in range(1,11):\n",
    "    f_sum += i\n",
    "    f_product *= i\n",
    "print(f_sum)\n",
    "print(f_product)"
   ]
  },
  {
   "cell_type": "code",
   "execution_count": 1,
   "id": "39c34e0e",
   "metadata": {},
   "outputs": [
    {
     "name": "stdout",
     "output_type": "stream",
     "text": [
      "enter the unit of electricity consumed by the user in a month310\n",
      "2250\n"
     ]
    }
   ],
   "source": [
    "###ques3\n",
    "unit=int(input(\"enter the unit of electricity consumed by the user in a month\"))\n",
    "if(unit>=100):\n",
    "    unit -= 100\n",
    "    cost = 100*4.5\n",
    "    if(unit>=100):\n",
    "        unit -= 100\n",
    "        cost = cost + 100*6\n",
    "        if(unit>=100):\n",
    "            unit -= 100\n",
    "            cost = cost + 100*10\n",
    "            if(unit>=1):\n",
    "                cost = cost + unit*20\n",
    "        else:\n",
    "            cost = cost + unit*10\n",
    "            \n",
    "    else:\n",
    "        cost = cost + unit*6\n",
    "else:\n",
    "    cost = unit*4.5\n",
    "    \n",
    "print(int(cost))"
   ]
  },
  {
   "cell_type": "code",
   "execution_count": 3,
   "id": "c30e4827",
   "metadata": {},
   "outputs": [
    {
     "name": "stdout",
     "output_type": "stream",
     "text": [
      "[2, 4, 5, 6, 8, 10, 12, 14, 15, 16, 18, 20, 22, 24, 25, 26, 28, 30, 32, 34, 35, 36, 38, 40, 42, 44, 45, 46, 48, 50, 52, 54, 55, 56, 58, 60, 62, 64, 65, 66, 68, 70, 72, 74, 75, 76, 78, 80, 82, 84, 85, 86, 88, 90, 92, 94, 95, 96, 98, 100]\n"
     ]
    }
   ],
   "source": [
    "###ques4\n",
    "#using for loop\n",
    "list1 = list(range(1,101))\n",
    "list2 = []\n",
    "for i in list1:\n",
    "    if((i**3 % 4 == 0) or (i**3 % 5 == 0)):\n",
    "        list2.append(i)\n",
    "print(list2)\n"
   ]
  },
  {
   "cell_type": "code",
   "execution_count": 1,
   "id": "1ca847ee",
   "metadata": {},
   "outputs": [
    {
     "name": "stdout",
     "output_type": "stream",
     "text": [
      "[2, 4, 5, 6, 8, 10, 12, 14, 15, 16, 18, 20, 22, 24, 25, 26, 28, 30, 32, 34, 35, 36, 38, 40, 42, 44, 45, 46, 48, 50, 52, 54, 55, 56, 58, 60, 62, 64, 65, 66, 68, 70, 72, 74, 75, 76, 78, 80, 82, 84, 85, 86, 88, 90, 92, 94, 95, 96, 98]\n"
     ]
    }
   ],
   "source": [
    "#using while loop\n",
    "list1 = list(range(1,101))\n",
    "list3 = []\n",
    "i = 0\n",
    "while(i != len(list1)-1):\n",
    "    if(list1[i]*list1[i]*list1[i] % 4 == 0 or list1[i]*list1[i]*list1[i] % 5 == 0):\n",
    "        list3.append(list1[i])\n",
    "    i = i + 1\n",
    "print(list3)"
   ]
  },
  {
   "cell_type": "code",
   "execution_count": 4,
   "id": "6d140e58",
   "metadata": {},
   "outputs": [
    {
     "name": "stdout",
     "output_type": "stream",
     "text": [
      "12\n"
     ]
    }
   ],
   "source": [
    "###ques5\n",
    "str = \"I want to become a data scientist\"\n",
    "count = 0\n",
    "for i in  str:\n",
    "    if(i.lower()=='a' or i.lower()=='e' or i.lower()=='i' or i.lower()=='o' or i.lower()=='u'):\n",
    "        count += 1\n",
    "print(count)"
   ]
  },
  {
   "cell_type": "code",
   "execution_count": null,
   "id": "f52ce8d1",
   "metadata": {},
   "outputs": [],
   "source": []
  }
 ],
 "metadata": {
  "kernelspec": {
   "display_name": "Python 3 (ipykernel)",
   "language": "python",
   "name": "python3"
  },
  "language_info": {
   "codemirror_mode": {
    "name": "ipython",
    "version": 3
   },
   "file_extension": ".py",
   "mimetype": "text/x-python",
   "name": "python",
   "nbconvert_exporter": "python",
   "pygments_lexer": "ipython3",
   "version": "3.9.12"
  }
 },
 "nbformat": 4,
 "nbformat_minor": 5
}
